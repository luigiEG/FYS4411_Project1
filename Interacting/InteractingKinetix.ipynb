{
 "cells": [
  {
   "cell_type": "code",
   "execution_count": 1271,
   "metadata": {},
   "outputs": [],
   "source": [
    "# import np plt\n",
    "import numpy as np\n",
    "import matplotlib.pyplot as plt"
   ]
  },
  {
   "cell_type": "code",
   "execution_count": 1272,
   "metadata": {},
   "outputs": [
    {
     "data": {
      "text/plain": [
       "array([[ 0.12932701, -0.37689875,  0.20321524],\n",
       "       [-1.09751303,  1.16580213, -1.42514143],\n",
       "       [ 0.82771336, -0.22597409,  0.05971845],\n",
       "       [-0.63752622, -0.41239791,  0.19045441],\n",
       "       [-0.57517192, -0.39100485, -1.73169072],\n",
       "       [ 1.35332829,  1.11718147, -0.18972555],\n",
       "       [-0.09174353, -0.34372041, -0.39210899],\n",
       "       [ 0.04513773,  0.3569891 ,  0.02103514],\n",
       "       [ 1.34402646,  0.27836556, -1.27175826],\n",
       "       [ 0.14381797, -0.14802135,  0.76350792]])"
      ]
     },
     "execution_count": 1272,
     "metadata": {},
     "output_type": "execute_result"
    }
   ],
   "source": [
    "# Get 10 random vector in 3 dim\n",
    "X = np.random.randn(10, 3)\n",
    "X"
   ]
  },
  {
   "cell_type": "code",
   "execution_count": 1273,
   "metadata": {},
   "outputs": [],
   "source": [
    "# generate X in such a way that no distance is less than 1\n",
    "def generate_X():\n",
    "    while True:\n",
    "        X = np.random.randn(10, 3)\n",
    "        if np.min(np.linalg.norm(X, axis=1)) > 1:\n",
    "            return X"
   ]
  },
  {
   "cell_type": "code",
   "execution_count": 1274,
   "metadata": {},
   "outputs": [],
   "source": [
    "X = generate_X()\n",
    "a = 0.01"
   ]
  },
  {
   "cell_type": "code",
   "execution_count": 1275,
   "metadata": {},
   "outputs": [],
   "source": [
    "# def a func that get dX, so find the distances among the vectors ecc ecc (is like D)\n",
    "def get_dX(X):\n",
    "    dX = np.zeros((X.shape[0], X.shape[0], X.shape[1]))\n",
    "    for i in range(10):\n",
    "        for j in range(i+1, 10):\n",
    "            dX[i,j,:] = X[i,:] - X[j,:]\n",
    "    \n",
    "    dX = dX - dX.transpose(1,0,2)\n",
    "    return dX\n",
    "\n",
    "def get_dx(X):\n",
    "    dx = np.zeros((X.shape[0], X.shape[0]))\n",
    "    for i in range(10):\n",
    "        for j in range(i+1, 10):\n",
    "            dx[i,j] = np.linalg.norm(X[i,:] - X[j,:])\n",
    "    \n",
    "    dx = dx + dx.transpose()\n",
    "    return dx\n",
    "\n",
    "# u_prime[i,j] = a/(dx[i,j]**2 - a*dx[i,j])\n",
    "def get_u_prime(dx, a):\n",
    "    # exploiting the fact that dx is symmetric\n",
    "    u_prime = np.zeros_like(dx)\n",
    "    for i in range(10):\n",
    "        for j in range(i+1, 10):\n",
    "            u_prime[i,j] = a/(dx[i,j]**2 - a*dx[i,j])\n",
    "    \n",
    "    u_prime = u_prime + u_prime.transpose()\n",
    "    return u_prime"
   ]
  },
  {
   "cell_type": "code",
   "execution_count": 1276,
   "metadata": {},
   "outputs": [
    {
     "data": {
      "text/plain": [
       "array([-1.24840338, -1.12924137, -2.0495497 ])"
      ]
     },
     "execution_count": 1276,
     "metadata": {},
     "output_type": "execute_result"
    }
   ],
   "source": [
    "X[1,:] - X[2,:]"
   ]
  },
  {
   "cell_type": "code",
   "execution_count": 1277,
   "metadata": {},
   "outputs": [],
   "source": [
    "dX = get_dX(X)\n",
    "dx = get_dx(X)"
   ]
  },
  {
   "cell_type": "code",
   "execution_count": 1278,
   "metadata": {},
   "outputs": [
    {
     "data": {
      "text/plain": [
       "array([-1.24840338, -1.12924137, -2.0495497 ])"
      ]
     },
     "execution_count": 1278,
     "metadata": {},
     "output_type": "execute_result"
    }
   ],
   "source": [
    "dX[1,2,:]"
   ]
  },
  {
   "cell_type": "code",
   "execution_count": 1279,
   "metadata": {},
   "outputs": [
    {
     "data": {
      "text/plain": [
       "array([1.24840338, 1.12924137, 2.0495497 ])"
      ]
     },
     "execution_count": 1279,
     "metadata": {},
     "output_type": "execute_result"
    }
   ],
   "source": [
    "dX[2,1,:]   "
   ]
  },
  {
   "cell_type": "code",
   "execution_count": 1280,
   "metadata": {},
   "outputs": [
    {
     "data": {
      "text/plain": [
       "2.6522350980677802"
      ]
     },
     "execution_count": 1280,
     "metadata": {},
     "output_type": "execute_result"
    }
   ],
   "source": [
    "# get the norm and compare with dx\n",
    "np.linalg.norm(dX[1,2,:])\n"
   ]
  },
  {
   "cell_type": "code",
   "execution_count": 1281,
   "metadata": {},
   "outputs": [
    {
     "data": {
      "text/plain": [
       "2.6522350980677802"
      ]
     },
     "execution_count": 1281,
     "metadata": {},
     "output_type": "execute_result"
    }
   ],
   "source": [
    "dx[1,2]"
   ]
  },
  {
   "cell_type": "code",
   "execution_count": 1282,
   "metadata": {},
   "outputs": [
    {
     "data": {
      "text/plain": [
       "2.6522350980677802"
      ]
     },
     "execution_count": 1282,
     "metadata": {},
     "output_type": "execute_result"
    }
   ],
   "source": [
    "dx[2,1]"
   ]
  },
  {
   "cell_type": "code",
   "execution_count": 1283,
   "metadata": {},
   "outputs": [],
   "source": [
    "u_prime = get_u_prime(dx, a)"
   ]
  },
  {
   "cell_type": "code",
   "execution_count": 1284,
   "metadata": {},
   "outputs": [
    {
     "data": {
      "text/plain": [
       "0.0"
      ]
     },
     "execution_count": 1284,
     "metadata": {},
     "output_type": "execute_result"
    }
   ],
   "source": [
    "u_prime[0,0]"
   ]
  },
  {
   "cell_type": "markdown",
   "metadata": {},
   "source": [
    "## Second term"
   ]
  },
  {
   "cell_type": "code",
   "execution_count": 1285,
   "metadata": {},
   "outputs": [],
   "source": [
    "# grad_phi = -2*alpha * (X[0], X[1], beta*X[2])\n",
    "def get_grad_phi_over_phi(X, alpha, beta):\n",
    "    grad_phi = np.zeros_like(X)\n",
    "    grad_phi[:,0:2] = X[:,0:2]\n",
    "    grad_phi[:,2] = beta*X[:,2]\n",
    "    grad_phi = -2*alpha*grad_phi\n",
    "    \n",
    "    return grad_phi"
   ]
  },
  {
   "cell_type": "code",
   "execution_count": 1286,
   "metadata": {},
   "outputs": [
    {
     "data": {
      "text/plain": [
       "array([[ 1.68015566,  0.30602063, -0.32220488],\n",
       "       [-1.16048316, -0.02723632, -0.66058664],\n",
       "       [ 0.08792022,  1.10200505,  1.38896306],\n",
       "       [-1.57670306, -1.28814256, -0.2837489 ],\n",
       "       [-0.32554206,  0.10721551, -0.96879181],\n",
       "       [ 2.41268797,  0.29977955, -0.67220324],\n",
       "       [ 1.6046917 , -0.04342   , -0.01221028],\n",
       "       [-0.68646014, -0.82569621, -0.89201039],\n",
       "       [-0.35520507,  1.40859436,  1.23261948],\n",
       "       [-0.30760291, -1.71353097, -0.04542484]])"
      ]
     },
     "execution_count": 1286,
     "metadata": {},
     "output_type": "execute_result"
    }
   ],
   "source": [
    "X"
   ]
  },
  {
   "cell_type": "code",
   "execution_count": 1287,
   "metadata": {},
   "outputs": [
    {
     "data": {
      "text/plain": [
       "array([[ -6.72062263,  -1.22408253,   3.86645859],\n",
       "       [  4.64193265,   0.10894528,   7.92703966],\n",
       "       [ -0.35168088,  -4.40802018, -16.66755669],\n",
       "       [  6.30681225,   5.15257024,   3.40498682],\n",
       "       [  1.30216825,  -0.42886203,  11.62550177],\n",
       "       [ -9.6507519 ,  -1.19911818,   8.06643884],\n",
       "       [ -6.41876681,   0.17367999,   0.14652342],\n",
       "       [  2.74584058,   3.30278483,  10.70412464],\n",
       "       [  1.42082029,  -5.63437745, -14.79143374],\n",
       "       [  1.23041165,   6.85412387,   0.54509809]])"
      ]
     },
     "execution_count": 1287,
     "metadata": {},
     "output_type": "execute_result"
    }
   ],
   "source": [
    "grad_phi_over_phi = get_grad_phi_over_phi(X, 2, 3)\n",
    "grad_phi_over_phi"
   ]
  },
  {
   "cell_type": "code",
   "execution_count": 1288,
   "metadata": {},
   "outputs": [],
   "source": [
    "def get_sec_term(X, dX, dx, u_prime, grad_phi_over_phi):\n",
    "    sec_term = 0 \n",
    "    for k in range(X.shape[0]):\n",
    "        corr_term = np.zeros_like(X[k,:])\n",
    "        for j in range(X.shape[0]):\n",
    "            if j != k:\n",
    "                corr_term += dX[k,j]*u_prime[k,j]/dx[k,j]\n",
    "        sec_term += 2 * np.dot(grad_phi_over_phi[k,:], corr_term)\n",
    "    return sec_term"
   ]
  },
  {
   "cell_type": "code",
   "execution_count": 1289,
   "metadata": {},
   "outputs": [
    {
     "data": {
      "text/plain": [
       "-2.8269838853111593"
      ]
     },
     "execution_count": 1289,
     "metadata": {},
     "output_type": "execute_result"
    }
   ],
   "source": [
    "# get the second term\n",
    "sec_term = get_sec_term(X, dX, dx, u_prime, grad_phi_over_phi)\n",
    "sec_term"
   ]
  },
  {
   "cell_type": "code",
   "execution_count": 1290,
   "metadata": {},
   "outputs": [],
   "source": [
    "def get_third_term(X, dX, dx, u_prime):\n",
    "    third_term = 0\n",
    "    for k in range(X.shape[0]):\n",
    "        for j in range(X.shape[0]):\n",
    "            for i in range(X.shape[0]):\n",
    "                if i != k and j != k:\n",
    "                    third_term += np.dot(dX[k,j], dX[k,i]) * u_prime[k,j] * u_prime[k,i] / (dx[k,j]*dx[k,i])\n",
    "    return third_term"
   ]
  },
  {
   "cell_type": "code",
   "execution_count": 1291,
   "metadata": {},
   "outputs": [
    {
     "data": {
      "text/plain": [
       "0.009543199285417536"
      ]
     },
     "execution_count": 1291,
     "metadata": {},
     "output_type": "execute_result"
    }
   ],
   "source": [
    "# get the third term\n",
    "third_term = get_third_term(X, dX, dx, u_prime)\n",
    "third_term"
   ]
  },
  {
   "cell_type": "code",
   "execution_count": 1292,
   "metadata": {},
   "outputs": [],
   "source": [
    "def u_second(a, dx):\n",
    "    return a*(a-2*dx)/(dx**2 - a*dx)**2"
   ]
  },
  {
   "cell_type": "code",
   "execution_count": 1293,
   "metadata": {},
   "outputs": [],
   "source": [
    "def get_fourth_term(u_prime, dx, a, u_second):\n",
    "    fourth_term = 0\n",
    "    for k in range(10):\n",
    "        for j in range(10):\n",
    "            if j != k:\n",
    "                fourth_term += u_second(a, dx[k,j]) + 2 * u_prime[k,j]/ dx[k,j]\n",
    "    return fourth_term"
   ]
  },
  {
   "cell_type": "code",
   "execution_count": 1294,
   "metadata": {},
   "outputs": [
    {
     "data": {
      "text/plain": [
       "-0.008063163643763901"
      ]
     },
     "execution_count": 1294,
     "metadata": {},
     "output_type": "execute_result"
    }
   ],
   "source": [
    "# get the fourth term\n",
    "fourth_term = get_fourth_term(u_prime, dx, a, u_second)\n",
    "fourth_term\n"
   ]
  },
  {
   "cell_type": "code",
   "execution_count": 1295,
   "metadata": {},
   "outputs": [
    {
     "data": {
      "text/plain": [
       "-2.8255038496695057"
      ]
     },
     "execution_count": 1295,
     "metadata": {},
     "output_type": "execute_result"
    }
   ],
   "source": [
    "# sum all the terms\n",
    "\n",
    "sum = sec_term + third_term + fourth_term\n",
    "sum"
   ]
  },
  {
   "cell_type": "code",
   "execution_count": null,
   "metadata": {},
   "outputs": [],
   "source": []
  },
  {
   "cell_type": "code",
   "execution_count": null,
   "metadata": {},
   "outputs": [],
   "source": []
  },
  {
   "cell_type": "code",
   "execution_count": null,
   "metadata": {},
   "outputs": [],
   "source": []
  }
 ],
 "metadata": {
  "kernelspec": {
   "display_name": "sci",
   "language": "python",
   "name": "python3"
  },
  "language_info": {
   "codemirror_mode": {
    "name": "ipython",
    "version": 3
   },
   "file_extension": ".py",
   "mimetype": "text/x-python",
   "name": "python",
   "nbconvert_exporter": "python",
   "pygments_lexer": "ipython3",
   "version": "3.10.9"
  }
 },
 "nbformat": 4,
 "nbformat_minor": 2
}
