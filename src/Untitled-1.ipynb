{
 "cells": [
  {
   "cell_type": "code",
   "execution_count": 1,
   "metadata": {},
   "outputs": [],
   "source": [
    "import numpy as np"
   ]
  },
  {
   "cell_type": "code",
   "execution_count": 2,
   "metadata": {},
   "outputs": [],
   "source": [
    "from module import QuantumSystems\n",
    "from module import Utils\n",
    "from module import VMC"
   ]
  },
  {
   "cell_type": "code",
   "execution_count": 3,
   "metadata": {},
   "outputs": [],
   "source": [
    "N = 10\n",
    "D = 3\n",
    "\n",
    "system = QuantumSystems.SHOscillatorFree(N, D)"
   ]
  },
  {
   "cell_type": "code",
   "execution_count": 4,
   "metadata": {},
   "outputs": [
    {
     "data": {
      "text/plain": [
       "1.0"
      ]
     },
     "execution_count": 4,
     "metadata": {},
     "output_type": "execute_result"
    }
   ],
   "source": [
    "X = np.random.randn(N, D)   \n",
    "system.wavefunction(X)"
   ]
  },
  {
   "cell_type": "code",
   "execution_count": 5,
   "metadata": {},
   "outputs": [],
   "source": [
    "def MetropolisPropose(system, X, delta, subgroup_size):\n",
    "    # propose a move\n",
    "    subgroup_indx = np.random.randint(0,system.N,subgroup_size)\n",
    "    dX = np.zeros((system.N, system.D)) \n",
    "    dX[subgroup_indx] = (np.random.random((subgroup_size,system.D))-0.5)*delta\n",
    "    return X + dX\n",
    "\n",
    "def MetropolisTest(system, X_new, X):\n",
    "    # test the move\n",
    "    likelihood = system.wavefunction(X_new)**2/system.wavefunction(X)**2\n",
    "    return np.random.random() < likelihood\n",
    "\n",
    "def MetropolisChain(system, X, delta, subgroup_size, n_steps):\n",
    "    # get a chain\n",
    "    chain = np.zeros((n_steps, system.N, system.D))\n",
    "    for i in range(n_steps):\n",
    "        X_new = MetropolisPropose(system, X, delta, subgroup_size)\n",
    "        if MetropolisTest(system, X_new, X):\n",
    "            X = X_new\n",
    "        chain[i] = X\n",
    "    return chain\n",
    "\n",
    "\n",
    "class MetropolisWalker:\n",
    "    def __init__(self, system, X=None, delta=0.1, subgroup_size=1):\n",
    "        self.system = system\n",
    "        self.delta = delta\n",
    "        self.subgroup_size = subgroup_size\n",
    "        if X is None:\n",
    "            self.X = np.random.randn(self.system.N, self.system.D)\n",
    "        else:\n",
    "            self.X = X\n",
    "\n",
    "    def get_chain(self, n_steps):\n",
    "        return MetropolisChain(self.system, self.X, self.delta, self.subgroup_size, n_steps)"
   ]
  },
  {
   "cell_type": "code",
   "execution_count": 6,
   "metadata": {},
   "outputs": [],
   "source": [
    "# test MetrololisPropose\n",
    "X = np.random.randn(N, D)\n",
    "delta = 0.1\n",
    "subgroup_size = 1\n",
    "X_new = MetropolisPropose(system, X, delta, subgroup_size)\n",
    "\n",
    "# test MetropolisTest\n",
    "MetropolisTest(system, X_new, X)\n",
    "\n",
    "# test MetropolisChain\n",
    "n_steps = 1000\n",
    "chain = MetropolisChain(system, X, delta, subgroup_size, n_steps)\n",
    "\n",
    "# test MetropolisWalker\n",
    "walker = MetropolisWalker(system, X, delta, subgroup_size)\n",
    "\n",
    "chain = walker.get_chain(n_steps)"
   ]
  },
  {
   "cell_type": "code",
   "execution_count": 7,
   "metadata": {},
   "outputs": [
    {
     "ename": "NameError",
     "evalue": "name 'Walkers' is not defined",
     "output_type": "error",
     "traceback": [
      "\u001b[0;31m---------------------------------------------------------------------------\u001b[0m",
      "\u001b[0;31mNameError\u001b[0m                                 Traceback (most recent call last)",
      "Cell \u001b[0;32mIn[7], line 4\u001b[0m\n\u001b[1;32m      1\u001b[0m delta \u001b[38;5;241m=\u001b[39m \u001b[38;5;241m0.1\u001b[39m\n\u001b[1;32m      2\u001b[0m subgroup_size \u001b[38;5;241m=\u001b[39m \u001b[38;5;241m5\u001b[39m\n\u001b[0;32m----> 4\u001b[0m walker \u001b[38;5;241m=\u001b[39m \u001b[43mWalkers\u001b[49m\u001b[38;5;241m.\u001b[39mMetropolisWalker(system, delta, subgroup_size)\n",
      "\u001b[0;31mNameError\u001b[0m: name 'Walkers' is not defined"
     ]
    }
   ],
   "source": [
    "delta = 0.1\n",
    "subgroup_size = 5"
   ]
  },
  {
   "cell_type": "code",
   "execution_count": null,
   "metadata": {},
   "outputs": [],
   "source": [
    "from module import Walkers\n",
    "\n",
    "walkers = Wa"
   ]
  },
  {
   "cell_type": "code",
   "execution_count": 8,
   "metadata": {},
   "outputs": [
    {
     "ename": "TypingError",
     "evalue": "Failed in nopython mode pipeline (step: nopython frontend)\n\u001b[1m\u001b[1m\u001b[1m\u001b[1m- Resolution failure for literal arguments:\n\u001b[1mFailed in nopython mode pipeline (step: nopython frontend)\n\u001b[1m\u001b[1m\u001b[1mNo implementation of function Function(<function sum at 0x7f07dd073b50>) found for signature:\n\n >>> sum(float64)\n\nThere are 2 candidate implementations:\n\u001b[1m  - Of which 2 did not match due to:\n  Overload of function 'sum': File: numba/core/typing/npydecl.py: Line 373.\n    With argument(s): '(float64)':\u001b[0m\n\u001b[1m   No match.\u001b[0m\n\u001b[0m\n\u001b[0m\u001b[1mDuring: resolving callee type: Function(<function sum at 0x7f07dd073b50>)\u001b[0m\n\u001b[0m\u001b[1mDuring: typing of call at /home/luigi/Documents/PHYSICS/CP/Project1/src/module/QuantumSystems.py (37)\n\u001b[0m\n\u001b[1m\nFile \"module/QuantumSystems.py\", line 37:\u001b[0m\n\u001b[1m    def wavefunction(self, X):\n        <source elided>\n        # compute the wavefunction\n\u001b[1m        return exp(-self.params[0]*np.sum(X**2))\n\u001b[0m        \u001b[1m^\u001b[0m\u001b[0m\n\u001b[0m\n\u001b[0m\u001b[1m- Resolution failure for non-literal arguments:\n\u001b[1mNone\u001b[0m\n\u001b[0m\u001b[0m\n\u001b[0m\u001b[1mDuring: resolving callee type: BoundFunction((<class 'numba.core.types.misc.ClassInstanceType'>, 'wavefunction') for instance.jitclass.SHOscillatorFree#7f07dc359ae0<N:int32,D:int32,params:array(float64, 1d, A)>)\u001b[0m\n\u001b[0m\u001b[1mDuring: typing of call at <string> (3)\n\u001b[0m\n\u001b[1m\nFile \"<string>\", line 3:\u001b[0m\n\u001b[1m<source missing, REPL/exec in use?>\u001b[0m\n",
     "output_type": "error",
     "traceback": [
      "\u001b[0;31m---------------------------------------------------------------------------\u001b[0m",
      "\u001b[0;31mTypingError\u001b[0m                               Traceback (most recent call last)",
      "Cell \u001b[0;32mIn[8], line 1\u001b[0m\n\u001b[0;32m----> 1\u001b[0m \u001b[43mwalker\u001b[49m\u001b[38;5;241;43m.\u001b[39;49m\u001b[43mget_chain\u001b[49m\u001b[43m(\u001b[49m\u001b[38;5;241;43m100\u001b[39;49m\u001b[43m)\u001b[49m\n",
      "File \u001b[0;32m~/Documents/PHYSICS/CP/Project1/src/module/Walkers.py:57\u001b[0m, in \u001b[0;36mMetropolisWalker.get_chain\u001b[0;34m(self, n_steps)\u001b[0m\n\u001b[1;32m     56\u001b[0m \u001b[38;5;28;01mdef\u001b[39;00m \u001b[38;5;21mget_chain\u001b[39m(\u001b[38;5;28mself\u001b[39m, n_steps):\n\u001b[0;32m---> 57\u001b[0m     \u001b[38;5;28;01mreturn\u001b[39;00m \u001b[43mMetropolisChain\u001b[49m\u001b[43m(\u001b[49m\u001b[38;5;28;43mself\u001b[39;49m\u001b[38;5;241;43m.\u001b[39;49m\u001b[43msystem\u001b[49m\u001b[43m,\u001b[49m\u001b[43m \u001b[49m\u001b[38;5;28;43mself\u001b[39;49m\u001b[38;5;241;43m.\u001b[39;49m\u001b[43mX\u001b[49m\u001b[43m,\u001b[49m\u001b[43m \u001b[49m\u001b[38;5;28;43mself\u001b[39;49m\u001b[38;5;241;43m.\u001b[39;49m\u001b[43mdelta\u001b[49m\u001b[43m,\u001b[49m\u001b[43m \u001b[49m\u001b[38;5;28;43mself\u001b[39;49m\u001b[38;5;241;43m.\u001b[39;49m\u001b[43msubgroup_size\u001b[49m\u001b[43m,\u001b[49m\u001b[43m \u001b[49m\u001b[43mn_steps\u001b[49m\u001b[43m)\u001b[49m\n",
      "File \u001b[0;32m~/Documents/PHYSICS/CP/Project1/src/module/Walkers.py:40\u001b[0m, in \u001b[0;36mMetropolisChain\u001b[0;34m(system, X, delta, subgroup_size, n_steps)\u001b[0m\n\u001b[1;32m     38\u001b[0m \u001b[38;5;28;01mfor\u001b[39;00m i \u001b[38;5;129;01min\u001b[39;00m \u001b[38;5;28mrange\u001b[39m(n_steps):\n\u001b[1;32m     39\u001b[0m     X_new \u001b[38;5;241m=\u001b[39m MetropolisPropose(system, X, delta, subgroup_size)\n\u001b[0;32m---> 40\u001b[0m     \u001b[38;5;28;01mif\u001b[39;00m \u001b[43mMetropolisTest\u001b[49m\u001b[43m(\u001b[49m\u001b[43msystem\u001b[49m\u001b[43m,\u001b[49m\u001b[43m \u001b[49m\u001b[43mX_new\u001b[49m\u001b[43m,\u001b[49m\u001b[43m \u001b[49m\u001b[43mX\u001b[49m\u001b[43m)\u001b[49m:\n\u001b[1;32m     41\u001b[0m         X \u001b[38;5;241m=\u001b[39m X_new\n\u001b[1;32m     42\u001b[0m     chain[i] \u001b[38;5;241m=\u001b[39m X\n",
      "File \u001b[0;32m~/Documents/PHYSICS/CP/Project1/src/module/Walkers.py:32\u001b[0m, in \u001b[0;36mMetropolisTest\u001b[0;34m(system, X_new, X)\u001b[0m\n\u001b[1;32m     30\u001b[0m \u001b[38;5;28;01mdef\u001b[39;00m \u001b[38;5;21mMetropolisTest\u001b[39m(system, X_new, X):\n\u001b[1;32m     31\u001b[0m     \u001b[38;5;66;03m# test the move\u001b[39;00m\n\u001b[0;32m---> 32\u001b[0m     likelihood \u001b[38;5;241m=\u001b[39m system\u001b[38;5;241m.\u001b[39mwavefunction(X_new)\u001b[38;5;241m*\u001b[39m\u001b[38;5;241m*\u001b[39m\u001b[38;5;241m2\u001b[39m\u001b[38;5;241m/\u001b[39m\u001b[43msystem\u001b[49m\u001b[38;5;241;43m.\u001b[39;49m\u001b[43mwavefunction\u001b[49m\u001b[43m(\u001b[49m\u001b[43mX\u001b[49m\u001b[43m)\u001b[49m\u001b[38;5;241m*\u001b[39m\u001b[38;5;241m*\u001b[39m\u001b[38;5;241m2\u001b[39m\n\u001b[1;32m     33\u001b[0m     \u001b[38;5;28;01mreturn\u001b[39;00m np\u001b[38;5;241m.\u001b[39mrandom\u001b[38;5;241m.\u001b[39mrandom() \u001b[38;5;241m<\u001b[39m likelihood\n",
      "File \u001b[0;32m~/anaconda3/envs/sci/lib/python3.10/site-packages/numba/experimental/jitclass/boxing.py:61\u001b[0m, in \u001b[0;36m_generate_method.<locals>.wrapper\u001b[0;34m(*args, **kwargs)\u001b[0m\n\u001b[1;32m     59\u001b[0m \u001b[38;5;129m@wraps\u001b[39m(func)\n\u001b[1;32m     60\u001b[0m \u001b[38;5;28;01mdef\u001b[39;00m \u001b[38;5;21mwrapper\u001b[39m(\u001b[38;5;241m*\u001b[39margs, \u001b[38;5;241m*\u001b[39m\u001b[38;5;241m*\u001b[39mkwargs):\n\u001b[0;32m---> 61\u001b[0m     \u001b[38;5;28;01mreturn\u001b[39;00m \u001b[43mmethod\u001b[49m\u001b[43m(\u001b[49m\u001b[38;5;241;43m*\u001b[39;49m\u001b[43margs\u001b[49m\u001b[43m,\u001b[49m\u001b[43m \u001b[49m\u001b[38;5;241;43m*\u001b[39;49m\u001b[38;5;241;43m*\u001b[39;49m\u001b[43mkwargs\u001b[49m\u001b[43m)\u001b[49m\n",
      "File \u001b[0;32m~/anaconda3/envs/sci/lib/python3.10/site-packages/numba/core/dispatcher.py:468\u001b[0m, in \u001b[0;36m_DispatcherBase._compile_for_args\u001b[0;34m(self, *args, **kws)\u001b[0m\n\u001b[1;32m    464\u001b[0m         msg \u001b[38;5;241m=\u001b[39m (\u001b[38;5;124mf\u001b[39m\u001b[38;5;124m\"\u001b[39m\u001b[38;5;132;01m{\u001b[39;00m\u001b[38;5;28mstr\u001b[39m(e)\u001b[38;5;241m.\u001b[39mrstrip()\u001b[38;5;132;01m}\u001b[39;00m\u001b[38;5;124m \u001b[39m\u001b[38;5;130;01m\\n\u001b[39;00m\u001b[38;5;130;01m\\n\u001b[39;00m\u001b[38;5;124mThis error may have been caused \u001b[39m\u001b[38;5;124m\"\u001b[39m\n\u001b[1;32m    465\u001b[0m                \u001b[38;5;124mf\u001b[39m\u001b[38;5;124m\"\u001b[39m\u001b[38;5;124mby the following argument(s):\u001b[39m\u001b[38;5;130;01m\\n\u001b[39;00m\u001b[38;5;132;01m{\u001b[39;00margs_str\u001b[38;5;132;01m}\u001b[39;00m\u001b[38;5;130;01m\\n\u001b[39;00m\u001b[38;5;124m\"\u001b[39m)\n\u001b[1;32m    466\u001b[0m         e\u001b[38;5;241m.\u001b[39mpatch_message(msg)\n\u001b[0;32m--> 468\u001b[0m     \u001b[43merror_rewrite\u001b[49m\u001b[43m(\u001b[49m\u001b[43me\u001b[49m\u001b[43m,\u001b[49m\u001b[43m \u001b[49m\u001b[38;5;124;43m'\u001b[39;49m\u001b[38;5;124;43mtyping\u001b[39;49m\u001b[38;5;124;43m'\u001b[39;49m\u001b[43m)\u001b[49m\n\u001b[1;32m    469\u001b[0m \u001b[38;5;28;01mexcept\u001b[39;00m errors\u001b[38;5;241m.\u001b[39mUnsupportedError \u001b[38;5;28;01mas\u001b[39;00m e:\n\u001b[1;32m    470\u001b[0m     \u001b[38;5;66;03m# Something unsupported is present in the user code, add help info\u001b[39;00m\n\u001b[1;32m    471\u001b[0m     error_rewrite(e, \u001b[38;5;124m'\u001b[39m\u001b[38;5;124munsupported_error\u001b[39m\u001b[38;5;124m'\u001b[39m)\n",
      "File \u001b[0;32m~/anaconda3/envs/sci/lib/python3.10/site-packages/numba/core/dispatcher.py:409\u001b[0m, in \u001b[0;36m_DispatcherBase._compile_for_args.<locals>.error_rewrite\u001b[0;34m(e, issue_type)\u001b[0m\n\u001b[1;32m    407\u001b[0m     \u001b[38;5;28;01mraise\u001b[39;00m e\n\u001b[1;32m    408\u001b[0m \u001b[38;5;28;01melse\u001b[39;00m:\n\u001b[0;32m--> 409\u001b[0m     \u001b[38;5;28;01mraise\u001b[39;00m e\u001b[38;5;241m.\u001b[39mwith_traceback(\u001b[38;5;28;01mNone\u001b[39;00m)\n",
      "\u001b[0;31mTypingError\u001b[0m: Failed in nopython mode pipeline (step: nopython frontend)\n\u001b[1m\u001b[1m\u001b[1m\u001b[1m- Resolution failure for literal arguments:\n\u001b[1mFailed in nopython mode pipeline (step: nopython frontend)\n\u001b[1m\u001b[1m\u001b[1mNo implementation of function Function(<function sum at 0x7f07dd073b50>) found for signature:\n\n >>> sum(float64)\n\nThere are 2 candidate implementations:\n\u001b[1m  - Of which 2 did not match due to:\n  Overload of function 'sum': File: numba/core/typing/npydecl.py: Line 373.\n    With argument(s): '(float64)':\u001b[0m\n\u001b[1m   No match.\u001b[0m\n\u001b[0m\n\u001b[0m\u001b[1mDuring: resolving callee type: Function(<function sum at 0x7f07dd073b50>)\u001b[0m\n\u001b[0m\u001b[1mDuring: typing of call at /home/luigi/Documents/PHYSICS/CP/Project1/src/module/QuantumSystems.py (37)\n\u001b[0m\n\u001b[1m\nFile \"module/QuantumSystems.py\", line 37:\u001b[0m\n\u001b[1m    def wavefunction(self, X):\n        <source elided>\n        # compute the wavefunction\n\u001b[1m        return exp(-self.params[0]*np.sum(X**2))\n\u001b[0m        \u001b[1m^\u001b[0m\u001b[0m\n\u001b[0m\n\u001b[0m\u001b[1m- Resolution failure for non-literal arguments:\n\u001b[1mNone\u001b[0m\n\u001b[0m\u001b[0m\n\u001b[0m\u001b[1mDuring: resolving callee type: BoundFunction((<class 'numba.core.types.misc.ClassInstanceType'>, 'wavefunction') for instance.jitclass.SHOscillatorFree#7f07dc359ae0<N:int32,D:int32,params:array(float64, 1d, A)>)\u001b[0m\n\u001b[0m\u001b[1mDuring: typing of call at <string> (3)\n\u001b[0m\n\u001b[1m\nFile \"<string>\", line 3:\u001b[0m\n\u001b[1m<source missing, REPL/exec in use?>\u001b[0m\n"
     ]
    }
   ],
   "source": [
    "walker.get_chain(100)"
   ]
  },
  {
   "cell_type": "code",
   "execution_count": 31,
   "metadata": {},
   "outputs": [],
   "source": [
    "warmup = 10000\n",
    "run = 100000\n",
    "\n",
    "vmc = VMC.VariationalMonteCarlo(system=system, walker=walker, \n",
    "                                warmup_steps=warmup, run_steps=run)"
   ]
  },
  {
   "cell_type": "code",
   "execution_count": 32,
   "metadata": {},
   "outputs": [
    {
     "ename": "TypingError",
     "evalue": "Failed in nopython mode pipeline (step: nopython frontend)\n\u001b[1m\u001b[1m\u001b[1m\u001b[1mFailed in nopython mode pipeline (step: nopython frontend)\n\u001b[1m\u001b[1m\u001b[1mNo implementation of function Function(<built-in method random of numpy.random.mtrand.RandomState object at 0x7f9070191840>) found for signature:\n \n >>> random(Tuple(int64, int32))\n \nThere are 4 candidate implementations:\n\u001b[1m  - Of which 2 did not match due to:\n  Overload in function 'random_impl0': File: numba/cpython/randomimpl.py: Line 238.\n    With argument(s): '(Tuple(int64, int32))':\u001b[0m\n\u001b[1m   Rejected as the implementation raised a specific error:\n     TypingError: \u001b[1mtoo many positional arguments\u001b[0m\u001b[0m\n  raised from /home/luigi/anaconda3/envs/sci/lib/python3.10/site-packages/numba/core/typing/templates.py:784\n\u001b[1m  - Of which 2 did not match due to:\n  Overload of function 'random': File: numba/cpython/randomimpl.py: Line 252.\n    With argument(s): '(Tuple(int64, int32))':\u001b[0m\n\u001b[1m   No match.\u001b[0m\n\u001b[0m\n\u001b[0m\u001b[1mDuring: resolving callee type: Function(<built-in method random of numpy.random.mtrand.RandomState object at 0x7f9070191840>)\u001b[0m\n\u001b[0m\u001b[1mDuring: typing of call at /home/luigi/Documents/PHYSICS/CP/Project1/src/module/Walkers.py (28)\n\u001b[0m\n\u001b[1m\nFile \"module/Walkers.py\", line 28:\u001b[0m\n\u001b[1mdef MetropolisPropose(system, X, delta, subgroup_size):\n    <source elided>\n    dX = np.zeros((system.N, system.D)) \n\u001b[1m    dX[subgroup_indx] = (np.random.random((subgroup_size,system.D))-0.5)*delta\n\u001b[0m    \u001b[1m^\u001b[0m\u001b[0m\n\n\u001b[0m\u001b[1mDuring: resolving callee type: type(CPUDispatcher(<function MetropolisPropose at 0x7f90474b8550>))\u001b[0m\n\u001b[0m\u001b[1mDuring: typing of call at /home/luigi/Documents/PHYSICS/CP/Project1/src/module/Walkers.py (42)\n\u001b[0m\n\u001b[0m\u001b[1mDuring: resolving callee type: type(CPUDispatcher(<function MetropolisPropose at 0x7f90474b8550>))\u001b[0m\n\u001b[0m\u001b[1mDuring: typing of call at /home/luigi/Documents/PHYSICS/CP/Project1/src/module/Walkers.py (42)\n\u001b[0m\n\u001b[1m\nFile \"module/Walkers.py\", line 42:\u001b[0m\n\u001b[1mdef MetropolisChain(system, X, delta, subgroup_size, n_steps):\n    <source elided>\n    for i in range(n_steps):\n\u001b[1m        X_new = MetropolisPropose(system, X, delta, subgroup_size)\n\u001b[0m        \u001b[1m^\u001b[0m\u001b[0m\n",
     "output_type": "error",
     "traceback": [
      "\u001b[0;31m---------------------------------------------------------------------------\u001b[0m",
      "\u001b[0;31mTypingError\u001b[0m                               Traceback (most recent call last)",
      "Cell \u001b[0;32mIn[32], line 1\u001b[0m\n\u001b[0;32m----> 1\u001b[0m \u001b[43mvmc\u001b[49m\u001b[38;5;241;43m.\u001b[39;49m\u001b[43mwarmup\u001b[49m\u001b[43m(\u001b[49m\u001b[43m)\u001b[49m\n",
      "File \u001b[0;32m~/Documents/PHYSICS/CP/Project1/src/module/VMC.py:60\u001b[0m, in \u001b[0;36mwarmup\u001b[0;34m(self)\u001b[0m\n\u001b[1;32m     57\u001b[0m     \u001b[38;5;28mself\u001b[39m\u001b[38;5;241m.\u001b[39mparams \u001b[38;5;241m=\u001b[39m params\n\u001b[1;32m     58\u001b[0m     \u001b[38;5;28mself\u001b[39m\u001b[38;5;241m.\u001b[39msystem\u001b[38;5;241m.\u001b[39mset_params(\u001b[38;5;28mself\u001b[39m\u001b[38;5;241m.\u001b[39mparams)\n\u001b[0;32m---> 60\u001b[0m \u001b[38;5;28;01mdef\u001b[39;00m \u001b[38;5;21mwarmup\u001b[39m(\u001b[38;5;28mself\u001b[39m):\n\u001b[1;32m     61\u001b[0m     \u001b[38;5;66;03m# warmup the VMC\u001b[39;00m\n\u001b[1;32m     62\u001b[0m     \u001b[38;5;28mself\u001b[39m\u001b[38;5;241m.\u001b[39mwarmup_chain \u001b[38;5;241m=\u001b[39m \u001b[38;5;28mself\u001b[39m\u001b[38;5;241m.\u001b[39mwalker\u001b[38;5;241m.\u001b[39mget_chain(\u001b[38;5;28mself\u001b[39m\u001b[38;5;241m.\u001b[39mwarmup_steps)\n\u001b[1;32m     64\u001b[0m     \u001b[38;5;28;01mif\u001b[39;00m \u001b[38;5;28mself\u001b[39m\u001b[38;5;241m.\u001b[39mplot:\n",
      "File \u001b[0;32m~/Documents/PHYSICS/CP/Project1/src/module/Walkers.py:60\u001b[0m, in \u001b[0;36mMetropolisWalker.get_chain\u001b[0;34m(self, n_steps)\u001b[0m\n\u001b[1;32m     59\u001b[0m \u001b[38;5;28;01mdef\u001b[39;00m \u001b[38;5;21mget_chain\u001b[39m(\u001b[38;5;28mself\u001b[39m, n_steps):\n\u001b[0;32m---> 60\u001b[0m     \u001b[38;5;28;01mreturn\u001b[39;00m \u001b[43mMetropolisChain\u001b[49m\u001b[43m(\u001b[49m\u001b[38;5;28;43mself\u001b[39;49m\u001b[38;5;241;43m.\u001b[39;49m\u001b[43msystem\u001b[49m\u001b[43m,\u001b[49m\u001b[43m \u001b[49m\u001b[38;5;28;43mself\u001b[39;49m\u001b[38;5;241;43m.\u001b[39;49m\u001b[43mX\u001b[49m\u001b[43m,\u001b[49m\u001b[43m \u001b[49m\u001b[38;5;28;43mself\u001b[39;49m\u001b[38;5;241;43m.\u001b[39;49m\u001b[43mdelta\u001b[49m\u001b[43m,\u001b[49m\u001b[43m \u001b[49m\u001b[38;5;28;43mself\u001b[39;49m\u001b[38;5;241;43m.\u001b[39;49m\u001b[43msubgroup_size\u001b[49m\u001b[43m,\u001b[49m\u001b[43m \u001b[49m\u001b[43mn_steps\u001b[49m\u001b[43m)\u001b[49m\n",
      "File \u001b[0;32m~/anaconda3/envs/sci/lib/python3.10/site-packages/numba/core/dispatcher.py:468\u001b[0m, in \u001b[0;36m_DispatcherBase._compile_for_args\u001b[0;34m(self, *args, **kws)\u001b[0m\n\u001b[1;32m    464\u001b[0m         msg \u001b[38;5;241m=\u001b[39m (\u001b[38;5;124mf\u001b[39m\u001b[38;5;124m\"\u001b[39m\u001b[38;5;132;01m{\u001b[39;00m\u001b[38;5;28mstr\u001b[39m(e)\u001b[38;5;241m.\u001b[39mrstrip()\u001b[38;5;132;01m}\u001b[39;00m\u001b[38;5;124m \u001b[39m\u001b[38;5;130;01m\\n\u001b[39;00m\u001b[38;5;130;01m\\n\u001b[39;00m\u001b[38;5;124mThis error may have been caused \u001b[39m\u001b[38;5;124m\"\u001b[39m\n\u001b[1;32m    465\u001b[0m                \u001b[38;5;124mf\u001b[39m\u001b[38;5;124m\"\u001b[39m\u001b[38;5;124mby the following argument(s):\u001b[39m\u001b[38;5;130;01m\\n\u001b[39;00m\u001b[38;5;132;01m{\u001b[39;00margs_str\u001b[38;5;132;01m}\u001b[39;00m\u001b[38;5;130;01m\\n\u001b[39;00m\u001b[38;5;124m\"\u001b[39m)\n\u001b[1;32m    466\u001b[0m         e\u001b[38;5;241m.\u001b[39mpatch_message(msg)\n\u001b[0;32m--> 468\u001b[0m     \u001b[43merror_rewrite\u001b[49m\u001b[43m(\u001b[49m\u001b[43me\u001b[49m\u001b[43m,\u001b[49m\u001b[43m \u001b[49m\u001b[38;5;124;43m'\u001b[39;49m\u001b[38;5;124;43mtyping\u001b[39;49m\u001b[38;5;124;43m'\u001b[39;49m\u001b[43m)\u001b[49m\n\u001b[1;32m    469\u001b[0m \u001b[38;5;28;01mexcept\u001b[39;00m errors\u001b[38;5;241m.\u001b[39mUnsupportedError \u001b[38;5;28;01mas\u001b[39;00m e:\n\u001b[1;32m    470\u001b[0m     \u001b[38;5;66;03m# Something unsupported is present in the user code, add help info\u001b[39;00m\n\u001b[1;32m    471\u001b[0m     error_rewrite(e, \u001b[38;5;124m'\u001b[39m\u001b[38;5;124munsupported_error\u001b[39m\u001b[38;5;124m'\u001b[39m)\n",
      "File \u001b[0;32m~/anaconda3/envs/sci/lib/python3.10/site-packages/numba/core/dispatcher.py:409\u001b[0m, in \u001b[0;36m_DispatcherBase._compile_for_args.<locals>.error_rewrite\u001b[0;34m(e, issue_type)\u001b[0m\n\u001b[1;32m    407\u001b[0m     \u001b[38;5;28;01mraise\u001b[39;00m e\n\u001b[1;32m    408\u001b[0m \u001b[38;5;28;01melse\u001b[39;00m:\n\u001b[0;32m--> 409\u001b[0m     \u001b[38;5;28;01mraise\u001b[39;00m e\u001b[38;5;241m.\u001b[39mwith_traceback(\u001b[38;5;28;01mNone\u001b[39;00m)\n",
      "\u001b[0;31mTypingError\u001b[0m: Failed in nopython mode pipeline (step: nopython frontend)\n\u001b[1m\u001b[1m\u001b[1m\u001b[1mFailed in nopython mode pipeline (step: nopython frontend)\n\u001b[1m\u001b[1m\u001b[1mNo implementation of function Function(<built-in method random of numpy.random.mtrand.RandomState object at 0x7f9070191840>) found for signature:\n \n >>> random(Tuple(int64, int32))\n \nThere are 4 candidate implementations:\n\u001b[1m  - Of which 2 did not match due to:\n  Overload in function 'random_impl0': File: numba/cpython/randomimpl.py: Line 238.\n    With argument(s): '(Tuple(int64, int32))':\u001b[0m\n\u001b[1m   Rejected as the implementation raised a specific error:\n     TypingError: \u001b[1mtoo many positional arguments\u001b[0m\u001b[0m\n  raised from /home/luigi/anaconda3/envs/sci/lib/python3.10/site-packages/numba/core/typing/templates.py:784\n\u001b[1m  - Of which 2 did not match due to:\n  Overload of function 'random': File: numba/cpython/randomimpl.py: Line 252.\n    With argument(s): '(Tuple(int64, int32))':\u001b[0m\n\u001b[1m   No match.\u001b[0m\n\u001b[0m\n\u001b[0m\u001b[1mDuring: resolving callee type: Function(<built-in method random of numpy.random.mtrand.RandomState object at 0x7f9070191840>)\u001b[0m\n\u001b[0m\u001b[1mDuring: typing of call at /home/luigi/Documents/PHYSICS/CP/Project1/src/module/Walkers.py (28)\n\u001b[0m\n\u001b[1m\nFile \"module/Walkers.py\", line 28:\u001b[0m\n\u001b[1mdef MetropolisPropose(system, X, delta, subgroup_size):\n    <source elided>\n    dX = np.zeros((system.N, system.D)) \n\u001b[1m    dX[subgroup_indx] = (np.random.random((subgroup_size,system.D))-0.5)*delta\n\u001b[0m    \u001b[1m^\u001b[0m\u001b[0m\n\n\u001b[0m\u001b[1mDuring: resolving callee type: type(CPUDispatcher(<function MetropolisPropose at 0x7f90474b8550>))\u001b[0m\n\u001b[0m\u001b[1mDuring: typing of call at /home/luigi/Documents/PHYSICS/CP/Project1/src/module/Walkers.py (42)\n\u001b[0m\n\u001b[0m\u001b[1mDuring: resolving callee type: type(CPUDispatcher(<function MetropolisPropose at 0x7f90474b8550>))\u001b[0m\n\u001b[0m\u001b[1mDuring: typing of call at /home/luigi/Documents/PHYSICS/CP/Project1/src/module/Walkers.py (42)\n\u001b[0m\n\u001b[1m\nFile \"module/Walkers.py\", line 42:\u001b[0m\n\u001b[1mdef MetropolisChain(system, X, delta, subgroup_size, n_steps):\n    <source elided>\n    for i in range(n_steps):\n\u001b[1m        X_new = MetropolisPropose(system, X, delta, subgroup_size)\n\u001b[0m        \u001b[1m^\u001b[0m\u001b[0m\n"
     ]
    }
   ],
   "source": [
    "vmc.warmup()"
   ]
  },
  {
   "cell_type": "code",
   "execution_count": null,
   "metadata": {},
   "outputs": [],
   "source": []
  }
 ],
 "metadata": {
  "kernelspec": {
   "display_name": "sci",
   "language": "python",
   "name": "python3"
  },
  "language_info": {
   "codemirror_mode": {
    "name": "ipython",
    "version": 3
   },
   "file_extension": ".py",
   "mimetype": "text/x-python",
   "name": "python",
   "nbconvert_exporter": "python",
   "pygments_lexer": "ipython3",
   "version": "3.10.9"
  }
 },
 "nbformat": 4,
 "nbformat_minor": 2
}
