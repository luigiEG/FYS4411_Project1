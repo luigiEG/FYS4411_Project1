{
 "cells": [
  {
   "cell_type": "code",
   "execution_count": 1,
   "metadata": {},
   "outputs": [],
   "source": [
    "# import numpy and exp mat\n",
    "import os\n",
    "import numpy as np\n",
    "import matplotlib.pyplot as plt\n",
    "\n",
    "from module.QuantumSystem import SHOscillator\n",
    "from module.Walker import MetropolisWalker\n",
    "from module.Utils import VMC\n",
    "\n",
    "np.random.seed(0)"
   ]
  },
  {
   "cell_type": "markdown",
   "metadata": {},
   "source": [
    "# Spherical Harmonic Oscillator without interaction, with Metropolis and analytical hamiltonian\n",
    "In this notebook we use a gradient descent algorithm to find the optimal variational parameters for the wave function of a spherical harmonic oscillator without interaction. We use the Metropolis algorithm to sample the probability distribution of the system and we compute the energy, the error and the derivative of the energy with respect to the variational parameters. A simple learning schedule as exponential decay is used to update the learning rate. We compare the result with the analytical solution."
   ]
  },
  {
   "cell_type": "markdown",
   "metadata": {},
   "source": [
    "## Optimization\n",
    "We start from two different params0 to show that the optimization algorithm converges to a rasonable result."
   ]
  },
  {
   "cell_type": "code",
   "execution_count": 2,
   "metadata": {},
   "outputs": [
    {
     "name": "stdout",
     "output_type": "stream",
     "text": [
      "-----------------\n",
      "VMC optimize\n",
      "-----------------\n",
      "Initial parameters: [2.]\n",
      "-----------------\n",
      "Parameters: [1.2085071]\n",
      "Energy: 15.78259020243615 +/- 0.4347450450695073\n",
      "Gradient: 7.914928967860952\n",
      "-----------------\n",
      "Parameters: [0.73484215]\n",
      "Energy: 10.600093540785227 +/- 0.20383411247310335\n",
      "Gradient: 5.2629439229032755\n",
      "-----------------\n",
      "Parameters: [0.44259423]\n",
      "Energy: 8.192216111325619 +/- 0.08239444538088733\n",
      "Gradient: 3.6079989769965266\n",
      "-----------------\n",
      "Parameters: [0.58539842]\n",
      "Energy: 7.582516383534369 +/- 0.023934220062183265\n",
      "Gradient: -1.9589051140555682\n",
      "-----------------\n",
      "Parameters: [0.46790147]\n",
      "Energy: 7.611562426432696 +/- 0.026093354008942415\n",
      "Gradient: 1.7908389256680266\n",
      "-----------------\n",
      "Parameters: [0.5257154]\n",
      "Energy: 7.50270546162878 +/- 0.01183097452556789\n",
      "Gradient: -0.9790838650297502\n",
      "-----------------\n",
      "Parameters: [0.49150555]\n",
      "Energy: 7.516446001191276 +/- 0.011738049955663236\n",
      "Gradient: 0.6437185628499691\n",
      "-----------------\n",
      "Parameters: [0.50409299]\n",
      "Energy: 7.4994957680504974 +/- 0.0032029239440099938\n",
      "Gradient: -0.2631721285930553\n",
      "-----------------\n",
      "Parameters: [0.4993454]\n",
      "Energy: 7.500141127815019 +/- 0.0016705509361710756\n",
      "Gradient: 0.11028940390174569\n",
      "-----------------\n",
      "Parameters: [0.50007543]\n",
      "Energy: 7.5001354261311395 +/- 0.0002443606325240783\n",
      "Gradient: -0.01884341696887759\n",
      "-----------------\n",
      "Parameters: [0.50000374]\n",
      "Energy: 7.499985569700789 +/- 2.959320406189578e-05\n",
      "Gradient: 0.0020560621685064007\n",
      "-----------------\n",
      "Parameters: [0.50000047]\n",
      "Energy: 7.49999981188778 +/- 1.3885296299589175e-06\n",
      "Gradient: 0.00010433957197619748\n",
      "-----------------\n",
      "Parameters: [0.50000005]\n",
      "Energy: 7.5000002330491595 +/- 1.9496618041220251e-07\n",
      "Gradient: 1.4662664369780032e-05\n",
      "-----------------\n",
      "Parameters: [0.50000002]\n",
      "Energy: 7.499999999611611 +/- 2.2554348610258813e-08\n",
      "Gradient: 1.230697563414651e-06\n",
      "-----------------\n",
      "Parameters: [0.50000001]\n",
      "Energy: 7.500000004673656 +/- 7.712535334964956e-09\n",
      "Gradient: 5.744023070519688e-07\n",
      "-----------------\n",
      "Parameters: [0.5]\n",
      "Energy: 7.500000002422445 +/- 3.3145773943152496e-09\n",
      "Gradient: 1.9996285516299395e-07\n",
      "-----------------\n",
      "Parameters: [0.5]\n",
      "Energy: 7.499999999185308 +/- 1.2883468224150544e-09\n",
      "Gradient: 8.199313583645562e-08\n",
      "-----------------\n",
      "Parameters: [0.5]\n",
      "Energy: 7.500000001357536 +/- 4.912032597840611e-10\n",
      "Gradient: 3.017690630713332e-08\n",
      "-----------------\n",
      "Parameters: [0.5]\n",
      "Energy: 7.499999999953594 +/- 2.442743644165689e-10\n",
      "Gradient: 1.9359291059117822e-08\n",
      "-----------------\n",
      "Parameters: [0.5]\n",
      "Energy: 7.499999999923413 +/- 1.51213643207421e-10\n",
      "Gradient: 1.1250705256315996e-08\n"
     ]
    }
   ],
   "source": [
    "# set up the system\n",
    "N = 5\n",
    "D = 3\n",
    "system = SHOscillator(N, D)\n",
    "\n",
    "# set up the walker\n",
    "walker = MetropolisWalker(system)\n",
    "\n",
    "# set up the VMC\n",
    "vmc = VMC(system, walker,\n",
    "          warmup_steps=500, run_steps=10000, \n",
    "          calibrate_steps=500, batch_steps=10,\n",
    "          optimize_steps=20, eta=0.1, eta_decay=0.9,\n",
    "          verbose=False, plot=False)\n",
    "\n",
    "# set initial parameters 2.\n",
    "vmc.set_params(np.array([2.]))\n",
    "# optimize\n",
    "vmc.optimize()"
   ]
  },
  {
   "cell_type": "code",
   "execution_count": 3,
   "metadata": {},
   "outputs": [
    {
     "name": "stdout",
     "output_type": "stream",
     "text": [
      "Optimized energy:  7.499999999923413 +- 1.51213643207421e-10\n",
      "Analytical energy:  7.5\n"
     ]
    }
   ],
   "source": [
    "# compare with analytical solution\n",
    "print(\"Optimized energy: \", vmc.get_energy(), \"+-\", vmc.get_energy_std())\n",
    "print(\"Analytical energy: \", 0.5*N*D)"
   ]
  },
  {
   "cell_type": "code",
   "execution_count": 4,
   "metadata": {},
   "outputs": [
    {
     "name": "stdout",
     "output_type": "stream",
     "text": [
      "-----------------\n",
      "VMC optimize\n",
      "-----------------\n",
      "Initial parameters: [0.2]\n",
      "-----------------\n",
      "Parameters: [3.07995358]\n",
      "Energy: 10.552743566397695 +/- 0.17792176479402344\n",
      "Gradient: -28.799535843047806\n",
      "-----------------\n",
      "Parameters: [2.47789475]\n",
      "Energy: 24.768889191241076 +/- 0.5717888715297231\n",
      "Gradient: 6.689542585867713\n",
      "-----------------\n",
      "Parameters: [1.93471591]\n",
      "Energy: 19.75667616240865 +/- 0.5299552668334488\n",
      "Gradient: 6.7059116566405095\n",
      "-----------------\n",
      "Parameters: [1.42628608]\n",
      "Energy: 15.354105782342044 +/- 0.38098701692779113\n",
      "Gradient: 6.9743459916558805\n",
      "-----------------\n",
      "Parameters: [1.00608432]\n",
      "Energy: 12.077087973760564 +/- 0.22384829938053974\n",
      "Gradient: 6.40453838941923\n",
      "-----------------\n",
      "Parameters: [0.69589586]\n",
      "Energy: 9.569399804124508 +/- 0.14210495931127023\n",
      "Gradient: 5.253068877409888\n",
      "-----------------\n",
      "Parameters: [0.51647681]\n",
      "Energy: 8.018366056574463 +/- 0.07595435761786469\n",
      "Gradient: 3.376085929995156\n",
      "-----------------\n",
      "Parameters: [0.49254678]\n",
      "Energy: 7.493901788005399 +/- 0.010800134765006079\n",
      "Gradient: 0.5003173747941787\n",
      "-----------------\n",
      "Parameters: [0.50065933]\n",
      "Energy: 7.500185948787391 +/- 0.0026671591300232904\n",
      "Gradient: -0.1884591549042085\n",
      "-----------------\n",
      "Parameters: [0.49989933]\n",
      "Energy: 7.49973200297812 +/- 0.00029642842461896635\n",
      "Gradient: 0.019617045000188682\n",
      "-----------------\n",
      "Parameters: [0.49999466]\n",
      "Energy: 7.499940288105991 +/- 4.798467954762015e-05\n",
      "Gradient: -0.002734067094166903\n",
      "-----------------\n",
      "Parameters: [0.49999981]\n",
      "Energy: 7.500001970903721 +/- 1.9746810604575797e-06\n",
      "Gradient: -0.0001640519769381399\n",
      "-----------------\n",
      "Parameters: [0.49999993]\n",
      "Energy: 7.499999734493313 +/- 5.374993002058014e-08\n",
      "Gradient: -4.273297605550397e-06\n",
      "-----------------\n",
      "Parameters: [0.49999997]\n",
      "Energy: 7.499999952647036 +/- 2.4640680433928903e-08\n",
      "Gradient: -1.7689751388161312e-06\n",
      "-----------------\n",
      "Parameters: [0.49999999]\n",
      "Energy: 7.50000000169639 +/- 1.3099005887654006e-08\n",
      "Gradient: -7.612487280539426e-07\n",
      "-----------------\n",
      "Parameters: [0.5]\n",
      "Energy: 7.500000004357369 +/- 5.701547039763565e-09\n",
      "Gradient: -3.278721578681143e-07\n",
      "-----------------\n",
      "Parameters: [0.5]\n",
      "Energy: 7.499999998385433 +/- 1.3881659908160826e-09\n",
      "Gradient: -9.300151759816799e-08\n",
      "-----------------\n",
      "Parameters: [0.5]\n",
      "Energy: 7.499999999802833 +/- 8.067716097459072e-10\n",
      "Gradient: -4.6004984710634744e-08\n",
      "-----------------\n",
      "Parameters: [0.5]\n",
      "Energy: 7.499999999777341 +/- 3.2262806153151e-10\n",
      "Gradient: -2.7280080416858254e-08\n",
      "-----------------\n",
      "Parameters: [0.5]\n",
      "Energy: 7.499999999563367 +/- 1.5412916821625277e-10\n",
      "Gradient: -1.1132314625683648e-08\n"
     ]
    }
   ],
   "source": [
    "# set up the VMC\n",
    "vmc = VMC(system, walker,\n",
    "          warmup_steps=500, run_steps=10000, \n",
    "          calibrate_steps=500, batch_steps=10,\n",
    "          optimize_steps=20, eta=0.1, eta_decay=0.9,\n",
    "          verbose=False, plot=False)\n",
    "\n",
    "# set initial parameters 0.2\n",
    "vmc.set_params(np.array([0.2]))\n",
    "# optimize\n",
    "vmc.optimize()"
   ]
  },
  {
   "cell_type": "code",
   "execution_count": 5,
   "metadata": {},
   "outputs": [
    {
     "name": "stdout",
     "output_type": "stream",
     "text": [
      "Optimized energy:  7.499999999563367 +- 1.5412916821625277e-10\n",
      "Analytical energy:  7.5\n"
     ]
    }
   ],
   "source": [
    "# compare with analytical solution\n",
    "print(\"Optimized energy: \", vmc.get_energy(), \"+-\", vmc.get_energy_std())\n",
    "print(\"Analytical energy: \", 0.5*N*D)"
   ]
  },
  {
   "cell_type": "code",
   "execution_count": null,
   "metadata": {},
   "outputs": [],
   "source": []
  }
 ],
 "metadata": {
  "kernelspec": {
   "display_name": "sci",
   "language": "python",
   "name": "python3"
  },
  "language_info": {
   "codemirror_mode": {
    "name": "ipython",
    "version": 3
   },
   "file_extension": ".py",
   "mimetype": "text/x-python",
   "name": "python",
   "nbconvert_exporter": "python",
   "pygments_lexer": "ipython3",
   "version": "3.10.9"
  }
 },
 "nbformat": 4,
 "nbformat_minor": 2
}
