{
 "cells": [
  {
   "cell_type": "code",
   "execution_count": 1,
   "metadata": {},
   "outputs": [],
   "source": [
    "# import numpy and exp mat\n",
    "import os\n",
    "import numpy as np\n",
    "import matplotlib.pyplot as plt\n",
    "\n",
    "from module.QuantumSystem import SHOscillator\n",
    "from module.Walker import MetropolisWalker\n",
    "from module.Utils import VMC\n",
    "\n",
    "np.random.seed(0)"
   ]
  },
  {
   "cell_type": "markdown",
   "metadata": {},
   "source": [
    "# Spherical Harmonic Oscillator without interaction, with Metropolis and analytical hamiltonian\n",
    "In this notebook we use a gradient descent algorithm to find the optimal variational parameters for the wave function of a spherical harmonic oscillator without interaction. We use the Metropolis algorithm to sample the probability distribution of the system and we compute the energy, the error and the derivative of the energy with respect to the variational parameters. A simple learning schedule as exponential decay is used to update the learning rate. We compare the result with the analytical solution."
   ]
  },
  {
   "cell_type": "markdown",
   "metadata": {},
   "source": [
    "## Optimization\n",
    "We start from two different params0 to show that the optimization algorithm converges to a rasonable result."
   ]
  },
  {
   "cell_type": "code",
   "execution_count": 6,
   "metadata": {},
   "outputs": [
    {
     "name": "stdout",
     "output_type": "stream",
     "text": [
      "-----------------\n",
      "VMC optimize\n",
      "-----------------\n",
      "Initial parameters: [2.]\n",
      "-----------------\n",
      "Parameters: [1.31103063]\n",
      "Energy: 15.933352440133007 +/- 0.3314429030983693\n",
      "Gradient: 6.88969373342983\n",
      "-----------------\n",
      "Parameters: [0.79413627]\n",
      "Energy: 11.512109737903106 +/- 0.34690746137175377\n",
      "Gradient: 5.743270589230555\n",
      "-----------------\n",
      "Parameters: [0.47264059]\n",
      "Energy: 8.37562737094945 +/- 0.08832151640633025\n",
      "Gradient: 3.969082540329552\n",
      "-----------------\n",
      "Parameters: [0.53736661]\n",
      "Energy: 7.515951224698415 +/- 0.018024611466799182\n",
      "Gradient: -0.8878741502161773\n",
      "-----------------\n",
      "Parameters: [0.46809753]\n",
      "Energy: 7.518339951826089 +/- 0.015225548345874718\n",
      "Gradient: 1.055770180652985\n",
      "-----------------\n",
      "Parameters: [0.53932392]\n",
      "Energy: 7.537394647716145 +/- 0.018717726935526854\n",
      "Gradient: -1.2062250711407643\n",
      "-----------------\n",
      "Parameters: [0.48497842]\n",
      "Energy: 7.5116184951385545 +/- 0.016535154669975478\n",
      "Gradient: 1.0226063041321112\n",
      "-----------------\n",
      "Parameters: [0.51292881]\n",
      "Energy: 7.50541526808596 +/- 0.008393252991165476\n",
      "Gradient: -0.5843732130616388\n",
      "-----------------\n",
      "Parameters: [0.49662197]\n",
      "Energy: 7.503991106364395 +/- 0.004819231621035351\n",
      "Gradient: 0.3788173908222916\n",
      "-----------------\n",
      "Parameters: [0.50086947]\n",
      "Energy: 7.499669716689461 +/- 0.0013968069162383486\n",
      "Gradient: -0.10963544762303457\n",
      "-----------------\n",
      "Parameters: [0.49999128]\n",
      "Energy: 7.500443436815223 +/- 0.0004523472684637793\n",
      "Gradient: 0.025186111081268336\n",
      "-----------------\n",
      "Parameters: [0.50000161]\n",
      "Energy: 7.500006195480739 +/- 3.5745248536909405e-06\n",
      "Gradient: -0.0003291251458676925\n",
      "-----------------\n",
      "Parameters: [0.50000026]\n",
      "Energy: 7.5000003171610325 +/- 9.94741256520134e-07\n",
      "Gradient: 4.7718925387130184e-05\n",
      "-----------------\n",
      "Parameters: [0.50000005]\n",
      "Energy: 7.499999967507595 +/- 1.6992200916449188e-07\n",
      "Gradient: 8.591622489007023e-06\n",
      "-----------------\n",
      "Parameters: [0.50000001]\n",
      "Energy: 7.499999993970836 +/- 2.8415789775847713e-08\n",
      "Gradient: 1.402204730993617e-06\n",
      "-----------------\n",
      "Parameters: [0.50000001]\n",
      "Energy: 7.500000003097746 +/- 5.346582427173592e-09\n",
      "Gradient: 3.666800694190897e-07\n",
      "-----------------\n",
      "Parameters: [0.5]\n",
      "Energy: 7.5000000020121895 +/- 3.3799917252270687e-09\n",
      "Gradient: 2.4569158085796516e-07\n",
      "-----------------\n",
      "Parameters: [0.5]\n",
      "Energy: 7.500000000451828 +/- 8.116061841024412e-10\n",
      "Gradient: 5.813312498048617e-08\n",
      "-----------------\n",
      "Parameters: [0.5]\n",
      "Energy: 7.5000000002919 +/- 4.4341505024060655e-10\n",
      "Gradient: 3.2815592021506745e-08\n",
      "-----------------\n",
      "Parameters: [0.5]\n",
      "Energy: 7.499999999962572 +/- 2.3113716593431387e-10\n",
      "Gradient: 1.5594935121043818e-08\n"
     ]
    }
   ],
   "source": [
    "# set up the system\n",
    "N = 5\n",
    "D = 3\n",
    "system = SHOscillator(N, D)\n",
    "\n",
    "# set up the walker\n",
    "walker = MetropolisWalker(system)\n",
    "\n",
    "# set up the VMC\n",
    "vmc = VMC(system, walker,\n",
    "          warmup_steps=500, run_steps=10000, \n",
    "          calibrate_steps=500, batch_steps=10,\n",
    "          optimize_steps=20, eta=0.1, eta_decay=0.9,\n",
    "          verbose=False, plot=False)\n",
    "\n",
    "# set initial parameters 2.\n",
    "vmc.set_params(np.array([2.]))\n",
    "# optimize\n",
    "vmc.optimize()"
   ]
  },
  {
   "cell_type": "code",
   "execution_count": 7,
   "metadata": {},
   "outputs": [
    {
     "name": "stdout",
     "output_type": "stream",
     "text": [
      "Optimized energy:  7.499999999962572 +- 2.3113716593431387e-10\n",
      "Analytical energy:  7.5\n"
     ]
    }
   ],
   "source": [
    "# compare with analytical solution\n",
    "print(\"Optimized energy: \", vmc.get_energy(), \"+-\", vmc.get_energy_std())\n",
    "print(\"Analytical energy: \", 0.5*N*D)"
   ]
  },
  {
   "cell_type": "code",
   "execution_count": 14,
   "metadata": {},
   "outputs": [
    {
     "name": "stdout",
     "output_type": "stream",
     "text": [
      "-----------------\n",
      "VMC optimize\n",
      "-----------------\n",
      "Initial parameters: [0.2]\n",
      "-----------------\n",
      "Parameters: [3.79128344]\n",
      "Energy: 10.74618273063655 +/- 0.26162787224475625\n",
      "Gradient: -35.91283440773884\n",
      "-----------------\n",
      "Parameters: [2.95908022]\n",
      "Energy: 28.16493699307211 +/- 0.9768690556556153\n",
      "Gradient: 9.246702440933035\n",
      "-----------------\n",
      "Parameters: [2.40195021]\n",
      "Energy: 23.017947679475743 +/- 0.6072091299247657\n",
      "Gradient: 6.878148256997996\n",
      "-----------------\n",
      "Parameters: [1.93427153]\n",
      "Energy: 18.5953992738568 +/- 0.4479314253325306\n",
      "Gradient: 6.41534547599246\n",
      "-----------------\n",
      "Parameters: [1.54289923]\n",
      "Energy: 16.39641872359917 +/- 0.2736901053941748\n",
      "Gradient: 5.9651318538977165\n",
      "-----------------\n",
      "Parameters: [1.14673709]\n",
      "Energy: 13.029847149024718 +/- 0.2730503681407129\n",
      "Gradient: 6.7090405272173115\n",
      "-----------------\n",
      "Parameters: [0.80979742]\n",
      "Energy: 10.11923289793827 +/- 0.29131128479078855\n",
      "Gradient: 6.340114450446478\n",
      "-----------------\n",
      "Parameters: [0.54090612]\n",
      "Energy: 8.35136546482764 +/- 0.14247730726978144\n",
      "Gradient: 5.621848976096203\n",
      "-----------------\n",
      "Parameters: [0.48773976]\n",
      "Energy: 7.508935448249949 +/- 0.020762934487128466\n",
      "Gradient: 1.2350851348192862\n",
      "-----------------\n",
      "Parameters: [0.50239504]\n",
      "Energy: 7.496218214349089 +/- 0.008596897668688057\n",
      "Gradient: -0.37827860197150187\n"
     ]
    }
   ],
   "source": [
    "# set up the VMC\n",
    "vmc = VMC(system, walker,\n",
    "          warmup_steps=500, run_steps=10000, \n",
    "          calibrate_steps=500, batch_steps=10,\n",
    "          optimize_steps=10, eta=0.1, eta_decay=0.9,\n",
    "          verbose=False, plot=False)\n",
    "\n",
    "# set initial parameters 0.2\n",
    "vmc.set_params(np.array([0.2]))\n",
    "# optimize\n",
    "vmc.optimize()"
   ]
  },
  {
   "cell_type": "code",
   "execution_count": 15,
   "metadata": {},
   "outputs": [
    {
     "name": "stdout",
     "output_type": "stream",
     "text": [
      "Optimized energy:  7.496218214349089 +- 0.008596897668688057\n",
      "Analytical energy:  7.5\n"
     ]
    }
   ],
   "source": [
    "# compare with analytical solution\n",
    "print(\"Optimized energy: \", vmc.get_energy(), \"+-\", vmc.get_energy_std())\n",
    "print(\"Analytical energy: \", 0.5*N*D)"
   ]
  },
  {
   "cell_type": "code",
   "execution_count": null,
   "metadata": {},
   "outputs": [],
   "source": []
  },
  {
   "cell_type": "code",
   "execution_count": null,
   "metadata": {},
   "outputs": [],
   "source": []
  }
 ],
 "metadata": {
  "kernelspec": {
   "display_name": "sci",
   "language": "python",
   "name": "python3"
  },
  "language_info": {
   "codemirror_mode": {
    "name": "ipython",
    "version": 3
   },
   "file_extension": ".py",
   "mimetype": "text/x-python",
   "name": "python",
   "nbconvert_exporter": "python",
   "pygments_lexer": "ipython3",
   "version": "3.10.9"
  }
 },
 "nbformat": 4,
 "nbformat_minor": 2
}
